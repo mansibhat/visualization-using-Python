{
  "nbformat": 4,
  "nbformat_minor": 0,
  "metadata": {
    "colab": {
      "name": "LineandBarplot.ipynb",
      "provenance": [],
      "authorship_tag": "ABX9TyP4atc4CWDqQAj8bvAMUcXQ",
      "include_colab_link": true
    },
    "kernelspec": {
      "name": "python3",
      "display_name": "Python 3"
    }
  },
  "cells": [
    {
      "cell_type": "markdown",
      "metadata": {
        "id": "view-in-github",
        "colab_type": "text"
      },
      "source": [
        "<a href=\"https://colab.research.google.com/github/mansibhat/visualization-using-Python/blob/main/LineandBarplot.ipynb\" target=\"_parent\"><img src=\"https://colab.research.google.com/assets/colab-badge.svg\" alt=\"Open In Colab\"/></a>"
      ]
    },
    {
      "cell_type": "code",
      "metadata": {
        "id": "XSD94XRB87R8"
      },
      "source": [
        "import seaborn as sns\r\n",
        "import matplotlib.pyplot as plt\r\n",
        "import numpy\r\n",
        "import pandas as pd\r\n",
        "from vega_datasets import data"
      ],
      "execution_count": 11,
      "outputs": []
    },
    {
      "cell_type": "code",
      "metadata": {
        "colab": {
          "base_uri": "https://localhost:8080/",
          "height": 419
        },
        "id": "vSSE13oJCo5N",
        "outputId": "17341dbe-1078-479c-cc2d-c268083c728b"
      },
      "source": [
        "stock_data = data.stocks()\r\n",
        "stock_data\r\n"
      ],
      "execution_count": 3,
      "outputs": [
        {
          "output_type": "execute_result",
          "data": {
            "text/html": [
              "<div>\n",
              "<style scoped>\n",
              "    .dataframe tbody tr th:only-of-type {\n",
              "        vertical-align: middle;\n",
              "    }\n",
              "\n",
              "    .dataframe tbody tr th {\n",
              "        vertical-align: top;\n",
              "    }\n",
              "\n",
              "    .dataframe thead th {\n",
              "        text-align: right;\n",
              "    }\n",
              "</style>\n",
              "<table border=\"1\" class=\"dataframe\">\n",
              "  <thead>\n",
              "    <tr style=\"text-align: right;\">\n",
              "      <th></th>\n",
              "      <th>symbol</th>\n",
              "      <th>date</th>\n",
              "      <th>price</th>\n",
              "    </tr>\n",
              "  </thead>\n",
              "  <tbody>\n",
              "    <tr>\n",
              "      <th>0</th>\n",
              "      <td>MSFT</td>\n",
              "      <td>2000-01-01</td>\n",
              "      <td>39.81</td>\n",
              "    </tr>\n",
              "    <tr>\n",
              "      <th>1</th>\n",
              "      <td>MSFT</td>\n",
              "      <td>2000-02-01</td>\n",
              "      <td>36.35</td>\n",
              "    </tr>\n",
              "    <tr>\n",
              "      <th>2</th>\n",
              "      <td>MSFT</td>\n",
              "      <td>2000-03-01</td>\n",
              "      <td>43.22</td>\n",
              "    </tr>\n",
              "    <tr>\n",
              "      <th>3</th>\n",
              "      <td>MSFT</td>\n",
              "      <td>2000-04-01</td>\n",
              "      <td>28.37</td>\n",
              "    </tr>\n",
              "    <tr>\n",
              "      <th>4</th>\n",
              "      <td>MSFT</td>\n",
              "      <td>2000-05-01</td>\n",
              "      <td>25.45</td>\n",
              "    </tr>\n",
              "    <tr>\n",
              "      <th>...</th>\n",
              "      <td>...</td>\n",
              "      <td>...</td>\n",
              "      <td>...</td>\n",
              "    </tr>\n",
              "    <tr>\n",
              "      <th>555</th>\n",
              "      <td>AAPL</td>\n",
              "      <td>2009-11-01</td>\n",
              "      <td>199.91</td>\n",
              "    </tr>\n",
              "    <tr>\n",
              "      <th>556</th>\n",
              "      <td>AAPL</td>\n",
              "      <td>2009-12-01</td>\n",
              "      <td>210.73</td>\n",
              "    </tr>\n",
              "    <tr>\n",
              "      <th>557</th>\n",
              "      <td>AAPL</td>\n",
              "      <td>2010-01-01</td>\n",
              "      <td>192.06</td>\n",
              "    </tr>\n",
              "    <tr>\n",
              "      <th>558</th>\n",
              "      <td>AAPL</td>\n",
              "      <td>2010-02-01</td>\n",
              "      <td>204.62</td>\n",
              "    </tr>\n",
              "    <tr>\n",
              "      <th>559</th>\n",
              "      <td>AAPL</td>\n",
              "      <td>2010-03-01</td>\n",
              "      <td>223.02</td>\n",
              "    </tr>\n",
              "  </tbody>\n",
              "</table>\n",
              "<p>560 rows × 3 columns</p>\n",
              "</div>"
            ],
            "text/plain": [
              "    symbol       date   price\n",
              "0     MSFT 2000-01-01   39.81\n",
              "1     MSFT 2000-02-01   36.35\n",
              "2     MSFT 2000-03-01   43.22\n",
              "3     MSFT 2000-04-01   28.37\n",
              "4     MSFT 2000-05-01   25.45\n",
              "..     ...        ...     ...\n",
              "555   AAPL 2009-11-01  199.91\n",
              "556   AAPL 2009-12-01  210.73\n",
              "557   AAPL 2010-01-01  192.06\n",
              "558   AAPL 2010-02-01  204.62\n",
              "559   AAPL 2010-03-01  223.02\n",
              "\n",
              "[560 rows x 3 columns]"
            ]
          },
          "metadata": {
            "tags": []
          },
          "execution_count": 3
        }
      ]
    },
    {
      "cell_type": "code",
      "metadata": {
        "colab": {
          "base_uri": "https://localhost:8080/",
          "height": 204
        },
        "id": "3f4D53tHCzzs",
        "outputId": "b833149a-c61a-47ce-ff43-a016666aa909"
      },
      "source": [
        "stock_data.head()"
      ],
      "execution_count": 4,
      "outputs": [
        {
          "output_type": "execute_result",
          "data": {
            "text/html": [
              "<div>\n",
              "<style scoped>\n",
              "    .dataframe tbody tr th:only-of-type {\n",
              "        vertical-align: middle;\n",
              "    }\n",
              "\n",
              "    .dataframe tbody tr th {\n",
              "        vertical-align: top;\n",
              "    }\n",
              "\n",
              "    .dataframe thead th {\n",
              "        text-align: right;\n",
              "    }\n",
              "</style>\n",
              "<table border=\"1\" class=\"dataframe\">\n",
              "  <thead>\n",
              "    <tr style=\"text-align: right;\">\n",
              "      <th></th>\n",
              "      <th>symbol</th>\n",
              "      <th>date</th>\n",
              "      <th>price</th>\n",
              "    </tr>\n",
              "  </thead>\n",
              "  <tbody>\n",
              "    <tr>\n",
              "      <th>0</th>\n",
              "      <td>MSFT</td>\n",
              "      <td>2000-01-01</td>\n",
              "      <td>39.81</td>\n",
              "    </tr>\n",
              "    <tr>\n",
              "      <th>1</th>\n",
              "      <td>MSFT</td>\n",
              "      <td>2000-02-01</td>\n",
              "      <td>36.35</td>\n",
              "    </tr>\n",
              "    <tr>\n",
              "      <th>2</th>\n",
              "      <td>MSFT</td>\n",
              "      <td>2000-03-01</td>\n",
              "      <td>43.22</td>\n",
              "    </tr>\n",
              "    <tr>\n",
              "      <th>3</th>\n",
              "      <td>MSFT</td>\n",
              "      <td>2000-04-01</td>\n",
              "      <td>28.37</td>\n",
              "    </tr>\n",
              "    <tr>\n",
              "      <th>4</th>\n",
              "      <td>MSFT</td>\n",
              "      <td>2000-05-01</td>\n",
              "      <td>25.45</td>\n",
              "    </tr>\n",
              "  </tbody>\n",
              "</table>\n",
              "</div>"
            ],
            "text/plain": [
              "  symbol       date  price\n",
              "0   MSFT 2000-01-01  39.81\n",
              "1   MSFT 2000-02-01  36.35\n",
              "2   MSFT 2000-03-01  43.22\n",
              "3   MSFT 2000-04-01  28.37\n",
              "4   MSFT 2000-05-01  25.45"
            ]
          },
          "metadata": {
            "tags": []
          },
          "execution_count": 4
        }
      ]
    },
    {
      "cell_type": "code",
      "metadata": {
        "colab": {
          "base_uri": "https://localhost:8080/",
          "height": 405
        },
        "id": "o5HhgXiDDRhQ",
        "outputId": "4e0f6bd7-18e9-44ee-c88f-c60d562072b6"
      },
      "source": [
        "plt.figure(figsize=(10, 5))\r\n",
        "sns.lineplot('date','price',hue='symbol' ,data=stock_data)"
      ],
      "execution_count": 23,
      "outputs": [
        {
          "output_type": "stream",
          "text": [
            "/usr/local/lib/python3.6/dist-packages/seaborn/_decorators.py:43: FutureWarning: Pass the following variables as keyword args: x, y. From version 0.12, the only valid positional argument will be `data`, and passing other arguments without an explicit keyword will result in an error or misinterpretation.\n",
            "  FutureWarning\n"
          ],
          "name": "stderr"
        },
        {
          "output_type": "execute_result",
          "data": {
            "text/plain": [
              "<matplotlib.axes._subplots.AxesSubplot at 0x7f8ed9b13470>"
            ]
          },
          "metadata": {
            "tags": []
          },
          "execution_count": 23
        },
        {
          "output_type": "display_data",
          "data": {
            "image/png": "[encoded data removed]",
            "text/plain": [
              "<Figure size 720x360 with 1 Axes>"
            ]
          },
          "metadata": {
            "tags": [],
            "needs_background": "light"
          }
        }
      ]
    },
    {
      "cell_type": "code",
      "metadata": {
        "id": "YFb57iZ5Ddo2"
      },
      "source": [
        "#How to pivot a table on Python\r\n",
        "stock_data_pivoted= stock_data.pivot_table(index='date',columns='symbol',values='price')"
      ],
      "execution_count": 13,
      "outputs": []
    },
    {
      "cell_type": "markdown",
      "metadata": {
        "id": "CpnANH1bZspy"
      },
      "source": [
        "Moving Averages"
      ]
    },
    {
      "cell_type": "code",
      "metadata": {
        "id": "wWo60ZDIYyvl"
      },
      "source": [
        "sp_data=data.sp500()"
      ],
      "execution_count": 56,
      "outputs": []
    },
    {
      "cell_type": "code",
      "metadata": {
        "colab": {
          "base_uri": "https://localhost:8080/",
          "height": 419
        },
        "id": "cmxAfUYQZWp-",
        "outputId": "d38a15b2-fcf5-4103-c707-e675feb577df"
      },
      "source": [
        "sp_data"
      ],
      "execution_count": 57,
      "outputs": [
        {
          "output_type": "execute_result",
          "data": {
            "text/html": [
              "<div>\n",
              "<style scoped>\n",
              "    .dataframe tbody tr th:only-of-type {\n",
              "        vertical-align: middle;\n",
              "    }\n",
              "\n",
              "    .dataframe tbody tr th {\n",
              "        vertical-align: top;\n",
              "    }\n",
              "\n",
              "    .dataframe thead th {\n",
              "        text-align: right;\n",
              "    }\n",
              "</style>\n",
              "<table border=\"1\" class=\"dataframe\">\n",
              "  <thead>\n",
              "    <tr style=\"text-align: right;\">\n",
              "      <th></th>\n",
              "      <th>date</th>\n",
              "      <th>price</th>\n",
              "    </tr>\n",
              "  </thead>\n",
              "  <tbody>\n",
              "    <tr>\n",
              "      <th>0</th>\n",
              "      <td>2000-01-01</td>\n",
              "      <td>1394.46</td>\n",
              "    </tr>\n",
              "    <tr>\n",
              "      <th>1</th>\n",
              "      <td>2000-02-01</td>\n",
              "      <td>1366.42</td>\n",
              "    </tr>\n",
              "    <tr>\n",
              "      <th>2</th>\n",
              "      <td>2000-03-01</td>\n",
              "      <td>1498.58</td>\n",
              "    </tr>\n",
              "    <tr>\n",
              "      <th>3</th>\n",
              "      <td>2000-04-01</td>\n",
              "      <td>1452.43</td>\n",
              "    </tr>\n",
              "    <tr>\n",
              "      <th>4</th>\n",
              "      <td>2000-05-01</td>\n",
              "      <td>1420.60</td>\n",
              "    </tr>\n",
              "    <tr>\n",
              "      <th>...</th>\n",
              "      <td>...</td>\n",
              "      <td>...</td>\n",
              "    </tr>\n",
              "    <tr>\n",
              "      <th>118</th>\n",
              "      <td>2009-11-01</td>\n",
              "      <td>1095.63</td>\n",
              "    </tr>\n",
              "    <tr>\n",
              "      <th>119</th>\n",
              "      <td>2009-12-01</td>\n",
              "      <td>1115.10</td>\n",
              "    </tr>\n",
              "    <tr>\n",
              "      <th>120</th>\n",
              "      <td>2010-01-01</td>\n",
              "      <td>1073.87</td>\n",
              "    </tr>\n",
              "    <tr>\n",
              "      <th>121</th>\n",
              "      <td>2010-02-01</td>\n",
              "      <td>1104.49</td>\n",
              "    </tr>\n",
              "    <tr>\n",
              "      <th>122</th>\n",
              "      <td>2010-03-01</td>\n",
              "      <td>1140.45</td>\n",
              "    </tr>\n",
              "  </tbody>\n",
              "</table>\n",
              "<p>123 rows × 2 columns</p>\n",
              "</div>"
            ],
            "text/plain": [
              "          date    price\n",
              "0   2000-01-01  1394.46\n",
              "1   2000-02-01  1366.42\n",
              "2   2000-03-01  1498.58\n",
              "3   2000-04-01  1452.43\n",
              "4   2000-05-01  1420.60\n",
              "..         ...      ...\n",
              "118 2009-11-01  1095.63\n",
              "119 2009-12-01  1115.10\n",
              "120 2010-01-01  1073.87\n",
              "121 2010-02-01  1104.49\n",
              "122 2010-03-01  1140.45\n",
              "\n",
              "[123 rows x 2 columns]"
            ]
          },
          "metadata": {
            "tags": []
          },
          "execution_count": 57
        }
      ]
    },
    {
      "cell_type": "code",
      "metadata": {
        "colab": {
          "base_uri": "https://localhost:8080/",
          "height": 318
        },
        "id": "VEq2xDxzZ4qf",
        "outputId": "473bacd1-95ca-4d72-e158-a621671958c8"
      },
      "source": [
        "#sns.lineplot('date','price',data=sp_data)\r\n",
        "sns.lineplot(x='date', y='price', data=sp_data)\r\n",
        "sns.set_theme(style= 'dark') #default styles are darkgrid, whitegrid, dark, white, and ticks\r\n",
        "plt.title('SP 500 price')\r\n",
        "plt.legend(labels=['price'])"
      ],
      "execution_count": 58,
      "outputs": [
        {
          "output_type": "execute_result",
          "data": {
            "text/plain": [
              "<matplotlib.legend.Legend at 0x7f8ed9349320>"
            ]
          },
          "metadata": {
            "tags": []
          },
          "execution_count": 58
        },
        {
          "output_type": "display_data",
          "data": {
            "image/png": "[encoded data removed]",
            "text/plain": [
              "<Figure size 432x288 with 1 Axes>"
            ]
          },
          "metadata": {
            "tags": []
          }
        }
      ]
    },
    {
      "cell_type": "code",
      "metadata": {
        "id": "nAQY8hmFaEC9"
      },
      "source": [
        "#Moving Averages\r\n",
        "sp_data['ma_5']= sp_data.price.rolling(5).mean()\r\n",
        "sp_data['ma_15']=sp_data.price.rolling(15).mean()\r\n"
      ],
      "execution_count": 60,
      "outputs": []
    },
    {
      "cell_type": "code",
      "metadata": {
        "colab": {
          "base_uri": "https://localhost:8080/",
          "height": 355
        },
        "id": "utE90huAePbP",
        "outputId": "592e8da5-3e37-4ddd-8b61-0062f6a64ea3"
      },
      "source": [
        "plt.figure(figsize=(10, 5))\r\n",
        "sns.lineplot(x='date',y='price',data=sp_data)\r\n",
        "sns.lineplot(x='date', y='ma_5', data=sp_data)\r\n",
        "sns.lineplot(x='date', y='ma_15', data=sp_data)\r\n",
        "plt.title('SP500 with 5 and 15 day MA')\r\n",
        "plt.legend(labels=['Actual','5 day MA','15 day MA'],loc='center right', bbox_to_anchor=(1.3, 0.5), ncol=1)\r\n",
        "plt.show()\r\n",
        "\r\n"
      ],
      "execution_count": 81,
      "outputs": [
        {
          "output_type": "display_data",
          "data": {
            "image/png": "[encoded data removed]",
            "text/plain": [
              "<Figure size 720x360 with 1 Axes>"
            ]
          },
          "metadata": {
            "tags": []
          }
        }
      ]
    },
    {
      "cell_type": "markdown",
      "metadata": {
        "id": "_j1U0QdMp2N1"
      },
      "source": [
        "**Percent Change**"
      ]
    },
    {
      "cell_type": "code",
      "metadata": {
        "colab": {
          "base_uri": "https://localhost:8080/",
          "height": 235
        },
        "id": "6Fpei_6BfRkk",
        "outputId": "6fa23d45-2e45-4632-9616-1ebdbc4292ba"
      },
      "source": [
        "stock_data_pivoted.head()\r\n"
      ],
      "execution_count": 7,
      "outputs": [
        {
          "output_type": "execute_result",
          "data": {
            "text/html": [
              "<div>\n",
              "<style scoped>\n",
              "    .dataframe tbody tr th:only-of-type {\n",
              "        vertical-align: middle;\n",
              "    }\n",
              "\n",
              "    .dataframe tbody tr th {\n",
              "        vertical-align: top;\n",
              "    }\n",
              "\n",
              "    .dataframe thead th {\n",
              "        text-align: right;\n",
              "    }\n",
              "</style>\n",
              "<table border=\"1\" class=\"dataframe\">\n",
              "  <thead>\n",
              "    <tr style=\"text-align: right;\">\n",
              "      <th>symbol</th>\n",
              "      <th>AAPL</th>\n",
              "      <th>AMZN</th>\n",
              "      <th>GOOG</th>\n",
              "      <th>IBM</th>\n",
              "      <th>MSFT</th>\n",
              "    </tr>\n",
              "    <tr>\n",
              "      <th>date</th>\n",
              "      <th></th>\n",
              "      <th></th>\n",
              "      <th></th>\n",
              "      <th></th>\n",
              "      <th></th>\n",
              "    </tr>\n",
              "  </thead>\n",
              "  <tbody>\n",
              "    <tr>\n",
              "      <th>2000-01-01</th>\n",
              "      <td>25.94</td>\n",
              "      <td>64.56</td>\n",
              "      <td>NaN</td>\n",
              "      <td>100.52</td>\n",
              "      <td>39.81</td>\n",
              "    </tr>\n",
              "    <tr>\n",
              "      <th>2000-02-01</th>\n",
              "      <td>28.66</td>\n",
              "      <td>68.87</td>\n",
              "      <td>NaN</td>\n",
              "      <td>92.11</td>\n",
              "      <td>36.35</td>\n",
              "    </tr>\n",
              "    <tr>\n",
              "      <th>2000-03-01</th>\n",
              "      <td>33.95</td>\n",
              "      <td>67.00</td>\n",
              "      <td>NaN</td>\n",
              "      <td>106.11</td>\n",
              "      <td>43.22</td>\n",
              "    </tr>\n",
              "    <tr>\n",
              "      <th>2000-04-01</th>\n",
              "      <td>31.01</td>\n",
              "      <td>55.19</td>\n",
              "      <td>NaN</td>\n",
              "      <td>99.95</td>\n",
              "      <td>28.37</td>\n",
              "    </tr>\n",
              "    <tr>\n",
              "      <th>2000-05-01</th>\n",
              "      <td>21.00</td>\n",
              "      <td>48.31</td>\n",
              "      <td>NaN</td>\n",
              "      <td>96.31</td>\n",
              "      <td>25.45</td>\n",
              "    </tr>\n",
              "  </tbody>\n",
              "</table>\n",
              "</div>"
            ],
            "text/plain": [
              "symbol       AAPL   AMZN  GOOG     IBM   MSFT\n",
              "date                                         \n",
              "2000-01-01  25.94  64.56   NaN  100.52  39.81\n",
              "2000-02-01  28.66  68.87   NaN   92.11  36.35\n",
              "2000-03-01  33.95  67.00   NaN  106.11  43.22\n",
              "2000-04-01  31.01  55.19   NaN   99.95  28.37\n",
              "2000-05-01  21.00  48.31   NaN   96.31  25.45"
            ]
          },
          "metadata": {
            "tags": []
          },
          "execution_count": 7
        }
      ]
    },
    {
      "cell_type": "code",
      "metadata": {
        "colab": {
          "base_uri": "https://localhost:8080/"
        },
        "id": "t_HTXVmCqXxs",
        "outputId": "edd7f95b-8617-4dcd-9a23-bbea095f52ce"
      },
      "source": [
        "\r\n",
        "tickers = stock_data_pivoted.columns\r\n",
        "tickers"
      ],
      "execution_count": 14,
      "outputs": [
        {
          "output_type": "execute_result",
          "data": {
            "text/plain": [
              "Index(['AAPL', 'AMZN', 'GOOG', 'IBM', 'MSFT'], dtype='object', name='symbol')"
            ]
          },
          "metadata": {
            "tags": []
          },
          "execution_count": 14
        }
      ]
    },
    {
      "cell_type": "code",
      "metadata": {
        "id": "ndnhn4j-t4er"
      },
      "source": [
        "stock_data_pivoted.reset_index(inplace=True)"
      ],
      "execution_count": 15,
      "outputs": []
    },
    {
      "cell_type": "code",
      "metadata": {
        "colab": {
          "base_uri": "https://localhost:8080/",
          "height": 204
        },
        "id": "4gASYUJxutKc",
        "outputId": "f4c0f5e5-3cbc-4c18-9603-7b615242c11f"
      },
      "source": [
        "stock_data_pivoted.head()"
      ],
      "execution_count": 17,
      "outputs": [
        {
          "output_type": "execute_result",
          "data": {
            "text/html": [
              "<div>\n",
              "<style scoped>\n",
              "    .dataframe tbody tr th:only-of-type {\n",
              "        vertical-align: middle;\n",
              "    }\n",
              "\n",
              "    .dataframe tbody tr th {\n",
              "        vertical-align: top;\n",
              "    }\n",
              "\n",
              "    .dataframe thead th {\n",
              "        text-align: right;\n",
              "    }\n",
              "</style>\n",
              "<table border=\"1\" class=\"dataframe\">\n",
              "  <thead>\n",
              "    <tr style=\"text-align: right;\">\n",
              "      <th>symbol</th>\n",
              "      <th>date</th>\n",
              "      <th>AAPL</th>\n",
              "      <th>AMZN</th>\n",
              "      <th>GOOG</th>\n",
              "      <th>IBM</th>\n",
              "      <th>MSFT</th>\n",
              "    </tr>\n",
              "  </thead>\n",
              "  <tbody>\n",
              "    <tr>\n",
              "      <th>0</th>\n",
              "      <td>2000-01-01</td>\n",
              "      <td>25.94</td>\n",
              "      <td>64.56</td>\n",
              "      <td>NaN</td>\n",
              "      <td>100.52</td>\n",
              "      <td>39.81</td>\n",
              "    </tr>\n",
              "    <tr>\n",
              "      <th>1</th>\n",
              "      <td>2000-02-01</td>\n",
              "      <td>28.66</td>\n",
              "      <td>68.87</td>\n",
              "      <td>NaN</td>\n",
              "      <td>92.11</td>\n",
              "      <td>36.35</td>\n",
              "    </tr>\n",
              "    <tr>\n",
              "      <th>2</th>\n",
              "      <td>2000-03-01</td>\n",
              "      <td>33.95</td>\n",
              "      <td>67.00</td>\n",
              "      <td>NaN</td>\n",
              "      <td>106.11</td>\n",
              "      <td>43.22</td>\n",
              "    </tr>\n",
              "    <tr>\n",
              "      <th>3</th>\n",
              "      <td>2000-04-01</td>\n",
              "      <td>31.01</td>\n",
              "      <td>55.19</td>\n",
              "      <td>NaN</td>\n",
              "      <td>99.95</td>\n",
              "      <td>28.37</td>\n",
              "    </tr>\n",
              "    <tr>\n",
              "      <th>4</th>\n",
              "      <td>2000-05-01</td>\n",
              "      <td>21.00</td>\n",
              "      <td>48.31</td>\n",
              "      <td>NaN</td>\n",
              "      <td>96.31</td>\n",
              "      <td>25.45</td>\n",
              "    </tr>\n",
              "  </tbody>\n",
              "</table>\n",
              "</div>"
            ],
            "text/plain": [
              "symbol       date   AAPL   AMZN  GOOG     IBM   MSFT\n",
              "0      2000-01-01  25.94  64.56   NaN  100.52  39.81\n",
              "1      2000-02-01  28.66  68.87   NaN   92.11  36.35\n",
              "2      2000-03-01  33.95  67.00   NaN  106.11  43.22\n",
              "3      2000-04-01  31.01  55.19   NaN   99.95  28.37\n",
              "4      2000-05-01  21.00  48.31   NaN   96.31  25.45"
            ]
          },
          "metadata": {
            "tags": []
          },
          "execution_count": 17
        }
      ]
    },
    {
      "cell_type": "code",
      "metadata": {
        "colab": {
          "base_uri": "https://localhost:8080/"
        },
        "id": "KXBLKvW9u26j",
        "outputId": "b49ca633-8083-49ee-d989-afcbd8fadca6"
      },
      "source": [
        "stock_data_pivoted.index = stock_data_pivoted.date\r\n",
        "stock_data_pivoted.pop('date')"
      ],
      "execution_count": 18,
      "outputs": [
        {
          "output_type": "execute_result",
          "data": {
            "text/plain": [
              "date\n",
              "2000-01-01   2000-01-01\n",
              "2000-02-01   2000-02-01\n",
              "2000-03-01   2000-03-01\n",
              "2000-04-01   2000-04-01\n",
              "2000-05-01   2000-05-01\n",
              "                ...    \n",
              "2009-11-01   2009-11-01\n",
              "2009-12-01   2009-12-01\n",
              "2010-01-01   2010-01-01\n",
              "2010-02-01   2010-02-01\n",
              "2010-03-01   2010-03-01\n",
              "Name: date, Length: 123, dtype: datetime64[ns]"
            ]
          },
          "metadata": {
            "tags": []
          },
          "execution_count": 18
        }
      ]
    },
    {
      "cell_type": "code",
      "metadata": {
        "id": "dMm_5d7Nu_Pg"
      },
      "source": [
        "stock_daily_return = stock_data_pivoted.pct_change()"
      ],
      "execution_count": 19,
      "outputs": []
    },
    {
      "cell_type": "code",
      "metadata": {
        "colab": {
          "base_uri": "https://localhost:8080/",
          "height": 235
        },
        "id": "GoVozimjvJf6",
        "outputId": "fffc1d21-2d97-4e80-9c38-0dfb679b38b6"
      },
      "source": [
        "stock_daily_return.tail()"
      ],
      "execution_count": 21,
      "outputs": [
        {
          "output_type": "execute_result",
          "data": {
            "text/html": [
              "<div>\n",
              "<style scoped>\n",
              "    .dataframe tbody tr th:only-of-type {\n",
              "        vertical-align: middle;\n",
              "    }\n",
              "\n",
              "    .dataframe tbody tr th {\n",
              "        vertical-align: top;\n",
              "    }\n",
              "\n",
              "    .dataframe thead th {\n",
              "        text-align: right;\n",
              "    }\n",
              "</style>\n",
              "<table border=\"1\" class=\"dataframe\">\n",
              "  <thead>\n",
              "    <tr style=\"text-align: right;\">\n",
              "      <th>symbol</th>\n",
              "      <th>AAPL</th>\n",
              "      <th>AMZN</th>\n",
              "      <th>GOOG</th>\n",
              "      <th>IBM</th>\n",
              "      <th>MSFT</th>\n",
              "    </tr>\n",
              "    <tr>\n",
              "      <th>date</th>\n",
              "      <th></th>\n",
              "      <th></th>\n",
              "      <th></th>\n",
              "      <th></th>\n",
              "      <th></th>\n",
              "    </tr>\n",
              "  </thead>\n",
              "  <tbody>\n",
              "    <tr>\n",
              "      <th>2009-11-01</th>\n",
              "      <td>0.060531</td>\n",
              "      <td>0.143927</td>\n",
              "      <td>0.087443</td>\n",
              "      <td>0.052284</td>\n",
              "      <td>0.065138</td>\n",
              "    </tr>\n",
              "    <tr>\n",
              "      <th>2009-12-01</th>\n",
              "      <td>0.054124</td>\n",
              "      <td>-0.010227</td>\n",
              "      <td>0.063431</td>\n",
              "      <td>0.036012</td>\n",
              "      <td>0.036556</td>\n",
              "    </tr>\n",
              "    <tr>\n",
              "      <th>2010-01-01</th>\n",
              "      <td>-0.088597</td>\n",
              "      <td>-0.067722</td>\n",
              "      <td>-0.145230</td>\n",
              "      <td>-0.064994</td>\n",
              "      <td>-0.075478</td>\n",
              "    </tr>\n",
              "    <tr>\n",
              "      <th>2010-02-01</th>\n",
              "      <td>0.065396</td>\n",
              "      <td>-0.055897</td>\n",
              "      <td>-0.005925</td>\n",
              "      <td>0.043578</td>\n",
              "      <td>0.022103</td>\n",
              "    </tr>\n",
              "    <tr>\n",
              "      <th>2010-03-01</th>\n",
              "      <td>0.089923</td>\n",
              "      <td>0.088007</td>\n",
              "      <td>0.063383</td>\n",
              "      <td>-0.012661</td>\n",
              "      <td>0.004534</td>\n",
              "    </tr>\n",
              "  </tbody>\n",
              "</table>\n",
              "</div>"
            ],
            "text/plain": [
              "symbol          AAPL      AMZN      GOOG       IBM      MSFT\n",
              "date                                                        \n",
              "2009-11-01  0.060531  0.143927  0.087443  0.052284  0.065138\n",
              "2009-12-01  0.054124 -0.010227  0.063431  0.036012  0.036556\n",
              "2010-01-01 -0.088597 -0.067722 -0.145230 -0.064994 -0.075478\n",
              "2010-02-01  0.065396 -0.055897 -0.005925  0.043578  0.022103\n",
              "2010-03-01  0.089923  0.088007  0.063383 -0.012661  0.004534"
            ]
          },
          "metadata": {
            "tags": []
          },
          "execution_count": 21
        }
      ]
    },
    {
      "cell_type": "code",
      "metadata": {
        "id": "2LVgg1BHvLu_"
      },
      "source": [
        "#df.cumsum() -cumulative\r\n"
      ],
      "execution_count": null,
      "outputs": []
    },
    {
      "cell_type": "code",
      "metadata": {
        "id": "MBIcu1Hbv7BD"
      },
      "source": [
        "#Correlations and heatmaps\r\n",
        "stock_cor = stock_data_pivoted.corr()"
      ],
      "execution_count": 22,
      "outputs": []
    },
    {
      "cell_type": "code",
      "metadata": {
        "colab": {
          "base_uri": "https://localhost:8080/",
          "height": 235
        },
        "id": "1Sd5m5X5wF9B",
        "outputId": "02d9eb12-e810-4742-d525-d5bd35deceec"
      },
      "source": [
        "stock_cor"
      ],
      "execution_count": 24,
      "outputs": [
        {
          "output_type": "execute_result",
          "data": {
            "text/html": [
              "<div>\n",
              "<style scoped>\n",
              "    .dataframe tbody tr th:only-of-type {\n",
              "        vertical-align: middle;\n",
              "    }\n",
              "\n",
              "    .dataframe tbody tr th {\n",
              "        vertical-align: top;\n",
              "    }\n",
              "\n",
              "    .dataframe thead th {\n",
              "        text-align: right;\n",
              "    }\n",
              "</style>\n",
              "<table border=\"1\" class=\"dataframe\">\n",
              "  <thead>\n",
              "    <tr style=\"text-align: right;\">\n",
              "      <th>symbol</th>\n",
              "      <th>AAPL</th>\n",
              "      <th>AMZN</th>\n",
              "      <th>GOOG</th>\n",
              "      <th>IBM</th>\n",
              "      <th>MSFT</th>\n",
              "    </tr>\n",
              "    <tr>\n",
              "      <th>symbol</th>\n",
              "      <th></th>\n",
              "      <th></th>\n",
              "      <th></th>\n",
              "      <th></th>\n",
              "      <th></th>\n",
              "    </tr>\n",
              "  </thead>\n",
              "  <tbody>\n",
              "    <tr>\n",
              "      <th>AAPL</th>\n",
              "      <td>1.000000</td>\n",
              "      <td>0.872996</td>\n",
              "      <td>0.849000</td>\n",
              "      <td>0.710545</td>\n",
              "      <td>0.357936</td>\n",
              "    </tr>\n",
              "    <tr>\n",
              "      <th>AMZN</th>\n",
              "      <td>0.872996</td>\n",
              "      <td>1.000000</td>\n",
              "      <td>0.674580</td>\n",
              "      <td>0.701340</td>\n",
              "      <td>0.392105</td>\n",
              "    </tr>\n",
              "    <tr>\n",
              "      <th>GOOG</th>\n",
              "      <td>0.849000</td>\n",
              "      <td>0.674580</td>\n",
              "      <td>1.000000</td>\n",
              "      <td>0.665615</td>\n",
              "      <td>0.710338</td>\n",
              "    </tr>\n",
              "    <tr>\n",
              "      <th>IBM</th>\n",
              "      <td>0.710545</td>\n",
              "      <td>0.701340</td>\n",
              "      <td>0.665615</td>\n",
              "      <td>1.000000</td>\n",
              "      <td>0.560398</td>\n",
              "    </tr>\n",
              "    <tr>\n",
              "      <th>MSFT</th>\n",
              "      <td>0.357936</td>\n",
              "      <td>0.392105</td>\n",
              "      <td>0.710338</td>\n",
              "      <td>0.560398</td>\n",
              "      <td>1.000000</td>\n",
              "    </tr>\n",
              "  </tbody>\n",
              "</table>\n",
              "</div>"
            ],
            "text/plain": [
              "symbol      AAPL      AMZN      GOOG       IBM      MSFT\n",
              "symbol                                                  \n",
              "AAPL    1.000000  0.872996  0.849000  0.710545  0.357936\n",
              "AMZN    0.872996  1.000000  0.674580  0.701340  0.392105\n",
              "GOOG    0.849000  0.674580  1.000000  0.665615  0.710338\n",
              "IBM     0.710545  0.701340  0.665615  1.000000  0.560398\n",
              "MSFT    0.357936  0.392105  0.710338  0.560398  1.000000"
            ]
          },
          "metadata": {
            "tags": []
          },
          "execution_count": 24
        }
      ]
    },
    {
      "cell_type": "code",
      "metadata": {
        "colab": {
          "base_uri": "https://localhost:8080/",
          "height": 300
        },
        "id": "RwMgo5ymwIN2",
        "outputId": "4ca8a17b-8138-4e8c-98e6-266fcc2aa482"
      },
      "source": [
        "sns.heatmap(stock_cor,annot=True)"
      ],
      "execution_count": 26,
      "outputs": [
        {
          "output_type": "execute_result",
          "data": {
            "text/plain": [
              "<matplotlib.axes._subplots.AxesSubplot at 0x7fcdfb54df98>"
            ]
          },
          "metadata": {
            "tags": []
          },
          "execution_count": 26
        },
        {
          "output_type": "display_data",
          "data": {
            "image/png": "[encoded data removed]",
            "text/plain": [
              "<Figure size 432x288 with 2 Axes>"
            ]
          },
          "metadata": {
            "tags": [],
            "needs_background": "light"
          }
        }
      ]
    },
    {
      "cell_type": "markdown",
      "metadata": {
        "id": "fCwdZ9LMwxRP"
      },
      "source": [
        "**Barplot**"
      ]
    },
    {
      "cell_type": "code",
      "metadata": {
        "id": "blKOR5nnwd40"
      },
      "source": [
        "tips_data= sns.load_dataset('tips')"
      ],
      "execution_count": 28,
      "outputs": []
    },
    {
      "cell_type": "code",
      "metadata": {
        "colab": {
          "base_uri": "https://localhost:8080/",
          "height": 204
        },
        "id": "WwqNOCpFxA50",
        "outputId": "414ccc8b-0c18-4c2d-de08-e40cdcf459b3"
      },
      "source": [
        "tips_data.head()"
      ],
      "execution_count": 29,
      "outputs": [
        {
          "output_type": "execute_result",
          "data": {
            "text/html": [
              "<div>\n",
              "<style scoped>\n",
              "    .dataframe tbody tr th:only-of-type {\n",
              "        vertical-align: middle;\n",
              "    }\n",
              "\n",
              "    .dataframe tbody tr th {\n",
              "        vertical-align: top;\n",
              "    }\n",
              "\n",
              "    .dataframe thead th {\n",
              "        text-align: right;\n",
              "    }\n",
              "</style>\n",
              "<table border=\"1\" class=\"dataframe\">\n",
              "  <thead>\n",
              "    <tr style=\"text-align: right;\">\n",
              "      <th></th>\n",
              "      <th>total_bill</th>\n",
              "      <th>tip</th>\n",
              "      <th>sex</th>\n",
              "      <th>smoker</th>\n",
              "      <th>day</th>\n",
              "      <th>time</th>\n",
              "      <th>size</th>\n",
              "    </tr>\n",
              "  </thead>\n",
              "  <tbody>\n",
              "    <tr>\n",
              "      <th>0</th>\n",
              "      <td>16.99</td>\n",
              "      <td>1.01</td>\n",
              "      <td>Female</td>\n",
              "      <td>No</td>\n",
              "      <td>Sun</td>\n",
              "      <td>Dinner</td>\n",
              "      <td>2</td>\n",
              "    </tr>\n",
              "    <tr>\n",
              "      <th>1</th>\n",
              "      <td>10.34</td>\n",
              "      <td>1.66</td>\n",
              "      <td>Male</td>\n",
              "      <td>No</td>\n",
              "      <td>Sun</td>\n",
              "      <td>Dinner</td>\n",
              "      <td>3</td>\n",
              "    </tr>\n",
              "    <tr>\n",
              "      <th>2</th>\n",
              "      <td>21.01</td>\n",
              "      <td>3.50</td>\n",
              "      <td>Male</td>\n",
              "      <td>No</td>\n",
              "      <td>Sun</td>\n",
              "      <td>Dinner</td>\n",
              "      <td>3</td>\n",
              "    </tr>\n",
              "    <tr>\n",
              "      <th>3</th>\n",
              "      <td>23.68</td>\n",
              "      <td>3.31</td>\n",
              "      <td>Male</td>\n",
              "      <td>No</td>\n",
              "      <td>Sun</td>\n",
              "      <td>Dinner</td>\n",
              "      <td>2</td>\n",
              "    </tr>\n",
              "    <tr>\n",
              "      <th>4</th>\n",
              "      <td>24.59</td>\n",
              "      <td>3.61</td>\n",
              "      <td>Female</td>\n",
              "      <td>No</td>\n",
              "      <td>Sun</td>\n",
              "      <td>Dinner</td>\n",
              "      <td>4</td>\n",
              "    </tr>\n",
              "  </tbody>\n",
              "</table>\n",
              "</div>"
            ],
            "text/plain": [
              "   total_bill   tip     sex smoker  day    time  size\n",
              "0       16.99  1.01  Female     No  Sun  Dinner     2\n",
              "1       10.34  1.66    Male     No  Sun  Dinner     3\n",
              "2       21.01  3.50    Male     No  Sun  Dinner     3\n",
              "3       23.68  3.31    Male     No  Sun  Dinner     2\n",
              "4       24.59  3.61  Female     No  Sun  Dinner     4"
            ]
          },
          "metadata": {
            "tags": []
          },
          "execution_count": 29
        }
      ]
    },
    {
      "cell_type": "code",
      "metadata": {
        "colab": {
          "base_uri": "https://localhost:8080/"
        },
        "id": "q6xsTfMzxHb0",
        "outputId": "b5ff7806-024a-46f8-e172-55c34fe88f08"
      },
      "source": [
        "tips_data.shape"
      ],
      "execution_count": 30,
      "outputs": [
        {
          "output_type": "execute_result",
          "data": {
            "text/plain": [
              "(244, 7)"
            ]
          },
          "metadata": {
            "tags": []
          },
          "execution_count": 30
        }
      ]
    },
    {
      "cell_type": "code",
      "metadata": {
        "colab": {
          "base_uri": "https://localhost:8080/",
          "height": 296
        },
        "id": "9p1NjTjDxTja",
        "outputId": "1e580285-8dfd-424d-9072-8c61be25c207"
      },
      "source": [
        "sns.barplot(x = 'day', y ='tip', hue= 'sex',  data=tips_data)\r\n",
        "plt.legend(loc='center right',bbox_to_anchor=(1.3, 0.5), ncol=1)"
      ],
      "execution_count": 42,
      "outputs": [
        {
          "output_type": "execute_result",
          "data": {
            "text/plain": [
              "<matplotlib.legend.Legend at 0x7fcdfa99eb38>"
            ]
          },
          "metadata": {
            "tags": []
          },
          "execution_count": 42
        },
        {
          "output_type": "display_data",
          "data": {
            "image/png": "[encoded data removed]",
            "text/plain": [
              "<Figure size 432x288 with 1 Axes>"
            ]
          },
          "metadata": {
            "tags": [],
            "needs_background": "light"
          }
        }
      ]
    },
    {
      "cell_type": "code",
      "metadata": {
        "colab": {
          "base_uri": "https://localhost:8080/",
          "height": 313
        },
        "id": "CWkESHUaxlHB",
        "outputId": "96514a87-6f50-4617-e104-dc772776f27c"
      },
      "source": [
        "sns.barplot(x='day', y='size', data= tips_data)\r\n",
        "plt.legend(loc='center right',bbox_to_anchor=(1.3, 0.5), ncol=1)"
      ],
      "execution_count": 52,
      "outputs": [
        {
          "output_type": "stream",
          "text": [
            "No handles with labels found to put in legend.\n"
          ],
          "name": "stderr"
        },
        {
          "output_type": "execute_result",
          "data": {
            "text/plain": [
              "<matplotlib.legend.Legend at 0x7fce03db9630>"
            ]
          },
          "metadata": {
            "tags": []
          },
          "execution_count": 52
        },
        {
          "output_type": "display_data",
          "data": {
            "image/png": "[encoded data removed]",
            "text/plain": [
              "<Figure size 432x288 with 1 Axes>"
            ]
          },
          "metadata": {
            "tags": [],
            "needs_background": "light"
          }
        }
      ]
    },
    {
      "cell_type": "code",
      "metadata": {
        "colab": {
          "base_uri": "https://localhost:8080/",
          "height": 312
        },
        "id": "6I5-05XjyjiW",
        "outputId": "658b3239-0892-459f-bce2-3ae362031f3a"
      },
      "source": [
        "\r\n",
        "sns.barplot(x='day', y='total_bill', data=tips_data).set_title('lalal')\r\n"
      ],
      "execution_count": 67,
      "outputs": [
        {
          "output_type": "execute_result",
          "data": {
            "text/plain": [
              "Text(0.5, 1.0, 'lalal')"
            ]
          },
          "metadata": {
            "tags": []
          },
          "execution_count": 67
        },
        {
          "output_type": "display_data",
          "data": {
            "image/png": "[encoded data removed]",
            "text/plain": [
              "<Figure size 432x288 with 1 Axes>"
            ]
          },
          "metadata": {
            "tags": [],
            "needs_background": "light"
          }
        }
      ]
    },
    {
      "cell_type": "markdown",
      "metadata": {
        "id": "rKrt7W_0znJk"
      },
      "source": [
        "**Distribution**"
      ]
    },
    {
      "cell_type": "code",
      "metadata": {
        "id": "sVhnX9DGNCQE",
        "colab": {
          "base_uri": "https://localhost:8080/",
          "height": 401
        },
        "outputId": "0613751f-ca2c-4d45-8dc9-9446c3d6969f"
      },
      "source": [
        "sns.distplot(tips_data.total_bill, kde=True, rug=True).set_title('Distribution of total bill amount')"
      ],
      "execution_count": 69,
      "outputs": [
        {
          "output_type": "stream",
          "text": [
            "/usr/local/lib/python3.6/dist-packages/seaborn/distributions.py:2557: FutureWarning: `distplot` is a deprecated function and will be removed in a future version. Please adapt your code to use either `displot` (a figure-level function with similar flexibility) or `histplot` (an axes-level function for histograms).\n",
            "  warnings.warn(msg, FutureWarning)\n",
            "/usr/local/lib/python3.6/dist-packages/seaborn/distributions.py:2056: FutureWarning: The `axis` variable is no longer used and will be removed. Instead, assign variables directly to `x` or `y`.\n",
            "  warnings.warn(msg, FutureWarning)\n"
          ],
          "name": "stderr"
        },
        {
          "output_type": "execute_result",
          "data": {
            "text/plain": [
              "Text(0.5, 1.0, 'Distribution of total bill amount')"
            ]
          },
          "metadata": {
            "tags": []
          },
          "execution_count": 69
        },
        {
          "output_type": "display_data",
          "data": {
            "image/png": "[encoded data removed]",
            "text/plain": [
              "<Figure size 432x288 with 1 Axes>"
            ]
          },
          "metadata": {
            "tags": [],
            "needs_background": "light"
          }
        }
      ]
    },
    {
      "cell_type": "code",
      "metadata": {
        "colab": {
          "base_uri": "https://localhost:8080/",
          "height": 401
        },
        "id": "QQ0V-dnJ0ve3",
        "outputId": "4519567d-f1c7-4389-e005-5f4883e35b6d"
      },
      "source": [
        "sns.distplot(tips_data[tips_data.sex=='Female'].total_bill, label='Female')\r\n",
        "sns.distplot(tips_data[tips_data.sex=='Male'].total_bill, label='Male').set_title('Distribution by Gender')"
      ],
      "execution_count": 83,
      "outputs": [
        {
          "output_type": "stream",
          "text": [
            "/usr/local/lib/python3.6/dist-packages/seaborn/distributions.py:2557: FutureWarning: `distplot` is a deprecated function and will be removed in a future version. Please adapt your code to use either `displot` (a figure-level function with similar flexibility) or `histplot` (an axes-level function for histograms).\n",
            "  warnings.warn(msg, FutureWarning)\n",
            "/usr/local/lib/python3.6/dist-packages/seaborn/distributions.py:2557: FutureWarning: `distplot` is a deprecated function and will be removed in a future version. Please adapt your code to use either `displot` (a figure-level function with similar flexibility) or `histplot` (an axes-level function for histograms).\n",
            "  warnings.warn(msg, FutureWarning)\n"
          ],
          "name": "stderr"
        },
        {
          "output_type": "execute_result",
          "data": {
            "text/plain": [
              "Text(0.5, 1.0, 'Distribution by Gender')"
            ]
          },
          "metadata": {
            "tags": []
          },
          "execution_count": 83
        },
        {
          "output_type": "display_data",
          "data": {
            "image/png": "[encoded data removed]",
            "text/plain": [
              "<Figure size 432x288 with 1 Axes>"
            ]
          },
          "metadata": {
            "tags": [],
            "needs_background": "light"
          }
        }
      ]
    },
    {
      "cell_type": "code",
      "metadata": {
        "id": "bY34XG9s2hdW"
      },
      "source": [
        ""
      ],
      "execution_count": null,
      "outputs": []
    }
  ]
}